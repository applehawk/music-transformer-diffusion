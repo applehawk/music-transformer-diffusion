{
 "cells": [
  {
   "cell_type": "markdown",
   "metadata": {},
   "source": [
    "It's just testing VectorQuantize model availabe in [b]vector_quantize_pytorch[/b] package "
   ]
  },
  {
   "cell_type": "code",
   "execution_count": 4,
   "metadata": {},
   "outputs": [
    {
     "name": "stdout",
     "output_type": "stream",
     "text": [
      "(shape) quantized:torch.Size([1, 1024, 256]), indices:torch.Size([1, 1024]), commit_loss:torch.Size([1])\n",
      "quantized:\n",
      "tensor([[[ 7.0029e-04, -6.5335e-03, -1.6227e-03,  ..., -2.3106e-03,\n",
      "           5.6237e-04,  6.0853e-03],\n",
      "         [-1.6711e-03,  1.4023e-03, -5.6767e-03,  ...,  8.6999e-04,\n",
      "          -4.2393e-03, -5.2326e-03],\n",
      "         [-4.1773e-03, -5.7432e-03, -1.1697e-03,  ...,  6.6566e-04,\n",
      "           2.6722e-03, -5.9004e-03],\n",
      "         ...,\n",
      "         [-3.3988e-03, -2.8770e-03, -3.9562e-03,  ..., -1.5133e-03,\n",
      "          -4.9976e-03, -1.7783e-03],\n",
      "         [ 6.6432e-03, -2.2235e-03,  3.5648e-03,  ..., -5.1427e-04,\n",
      "           3.1691e-03, -2.6971e-03],\n",
      "         [ 7.6113e-04, -5.2107e-03,  7.5352e-04,  ..., -1.3660e-03,\n",
      "          -2.2972e-03, -9.1314e-05]]])\n",
      "indices:tensor([[298, 199, 474,  ..., 406, 380, 286]])\n",
      "commit_loss:tensor([0.9978], grad_fn=<AddBackward0>)\n"
     ]
    }
   ],
   "source": [
    "import torch\n",
    "from vector_quantize_pytorch import VectorQuantize\n",
    "\n",
    "vq = VectorQuantize(\n",
    "    dim = 256,\n",
    "    codebook_size = 512,     # codebook size\n",
    "    decay = 0.8,             # the exponential moving average decay, lower means the dictionary will change faster\n",
    "    commitment_weight = 1.   # the weight on the commitment loss\n",
    ")\n",
    "\n",
    "x = torch.randn(1, 1024, 256)\n",
    "quantized, indices, commit_loss = vq(x) # (1, 1024, 256), (1, 1024), (1)\n",
    "print(f'(shape) quantized:{quantized.shape}, indices:{indices.shape}, commit_loss:{commit_loss.shape}')\n",
    "print(f'quantized:\\n{quantized}\\nindices:{indices}\\ncommit_loss:{commit_loss}')"
   ]
  },
  {
   "cell_type": "markdown",
   "metadata": {},
   "source": []
  }
 ],
 "metadata": {
  "kernelspec": {
   "display_name": "jupyter",
   "language": "python",
   "name": "python3"
  },
  "language_info": {
   "codemirror_mode": {
    "name": "ipython",
    "version": 3
   },
   "file_extension": ".py",
   "mimetype": "text/x-python",
   "name": "python",
   "nbconvert_exporter": "python",
   "pygments_lexer": "ipython3",
   "version": "3.11.5"
  }
 },
 "nbformat": 4,
 "nbformat_minor": 2
}
